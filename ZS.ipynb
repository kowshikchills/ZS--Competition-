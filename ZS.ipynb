{
 "cells": [
  {
   "cell_type": "code",
   "execution_count": null,
   "metadata": {
    "collapsed": true
   },
   "outputs": [],
   "source": []
  },
  {
   "cell_type": "code",
   "execution_count": null,
   "metadata": {
    "collapsed": true
   },
   "outputs": [],
   "source": []
  },
  {
   "cell_type": "code",
   "execution_count": null,
   "metadata": {
    "collapsed": true
   },
   "outputs": [],
   "source": []
  },
  {
   "cell_type": "code",
   "execution_count": null,
   "metadata": {
    "collapsed": true
   },
   "outputs": [],
   "source": []
  },
  {
   "cell_type": "code",
   "execution_count": 14,
   "metadata": {
    "collapsed": false
   },
   "outputs": [],
   "source": [
    "import pandas\n",
    "import numpy as np\n",
    "df_hp = pandas.read_csv('HospitalProfiling.csv') \n",
    "df_hr = pandas.read_csv('HospitalRevenue.csv') \n",
    "df_pr = pandas.read_csv('ProjectedRevenue.csv') \n",
    "df_s = pandas.read_csv('Solution.csv')\n",
    "df_x = pandas.read_csv('x.csv')\n",
    "df_pr = df_pr[df_pr.District_ID != 'No District Available']\n",
    "df_hr = df_hr[df_hr.District_ID != 'No District Available']"
   ]
  },
  {
   "cell_type": "code",
   "execution_count": 15,
   "metadata": {
    "collapsed": false
   },
   "outputs": [],
   "source": [
    "Hospital_ID = []\n",
    "District_ID = []\n",
    "for i in range(len(df_hp)):\n",
    "    Hospital_ID.append(int(filter(str.isdigit, df_hp['Hospital_ID'].values[i])))\n",
    "    District_ID.append(int(filter(str.isdigit, df_hp['District_ID'].values[i])))\n",
    "df_hp['Hospital_ID'] =  Hospital_ID  \n",
    "df_hp['District_ID'] =  District_ID \n",
    "\n",
    "Hospital_ID = []\n",
    "District_ID = []\n",
    "Region_ID = []\n",
    "Instrument_ID = []\n",
    "for i in range(len(df_hr)):\n",
    "    Hospital_ID.append(int(filter(str.isdigit, df_hr['Hospital_ID'].values[i])))\n",
    "    District_ID.append(int(filter(str.isdigit, df_hr['District_ID'].values[i])))\n",
    "    Region_ID.append(int(filter(str.isdigit, df_hr['Region_ID'].values[i])))\n",
    "    Instrument_ID.append(int(filter(str.isdigit, df_hr['Instrument_ID'].values[i])))\n",
    "df_hr['Hospital_ID'] =  Hospital_ID  \n",
    "df_hr['District_ID'] =  District_ID \n",
    "df_hr['Region_ID'] =  Region_ID\n",
    "df_hr['Instrument_ID'] =  Instrument_ID\n",
    "\n",
    "Hospital_ID = []\n",
    "District_ID = []\n",
    "Instrument_ID = []\n",
    "for i in range(len(df_pr)):\n",
    "    Hospital_ID.append(int(filter(str.isdigit, df_pr['Hospital_ID'].values[i])))\n",
    "    District_ID.append(int(filter(str.isdigit, df_pr['District_ID'].values[i])))\n",
    "    Instrument_ID.append(int(filter(str.isdigit, df_pr['Instrument_ID'].values[i])))\n",
    "df_pr['Hospital_ID'] =  Hospital_ID  \n",
    "df_pr['District_ID'] =  District_ID \n",
    "df_pr['Instrument_ID'] =  Instrument_ID\n",
    "\n",
    "\n",
    "Hospital_ID = []\n",
    "District_ID = []\n",
    "Instrument_ID = []\n",
    "for i in range(len(df_s)):\n",
    "    Hospital_ID.append(int(filter(str.isdigit, df_s['Hospital_ID'].values[i])))\n",
    "    District_ID.append(int(filter(str.isdigit, df_s['District_ID'].values[i])))\n",
    "    Instrument_ID.append(int(filter(str.isdigit, df_s['Instrument_ID'].values[i])))\n",
    "df_s['Hospital_ID'] =  Hospital_ID  \n",
    "df_s['District_ID'] =  District_ID \n",
    "df_s['Instrument_ID'] =  Instrument_ID\n",
    "\n"
   ]
  },
  {
   "cell_type": "code",
   "execution_count": 16,
   "metadata": {
    "collapsed": true
   },
   "outputs": [],
   "source": [
    "df_s.Hospital_ID= df_s.Hospital_ID.astype(str)\n",
    "df_s.District_ID= df_s.District_ID.astype(str)\n",
    "df_s.Instrument_ID= df_s.Instrument_ID.astype(str)\n",
    "\n",
    "df_x.Hospital_ID= df_x.Hospital_ID.astype(str)\n",
    "df_x.District_ID= df_x.District_ID.astype(str)\n",
    "df_x.Instrument_ID= df_x.Instrument_ID.astype(str)"
   ]
  },
  {
   "cell_type": "code",
   "execution_count": 19,
   "metadata": {
    "collapsed": false
   },
   "outputs": [],
   "source": [
    "Y = df_x['Binary'].values\n",
    "del df_x['Binary']"
   ]
  },
  {
   "cell_type": "code",
   "execution_count": 20,
   "metadata": {
    "collapsed": false
   },
   "outputs": [],
   "source": [
    "del df_s['Buy_or_not']\n",
    "del df_s['Revenue']"
   ]
  },
  {
   "cell_type": "code",
   "execution_count": 21,
   "metadata": {
    "collapsed": false
   },
   "outputs": [],
   "source": [
    "#ENCODING\n",
    "X_train = df_x.to_dict('records')\n",
    "X_test = df_s.to_dict('records')\n",
    "X_tr = []\n",
    "X_te = []\n",
    "X_tr.extend(X_train)\n",
    "X_te.extend(X_test)\n",
    "X_total = X_tr + X_te"
   ]
  },
  {
   "cell_type": "code",
   "execution_count": 22,
   "metadata": {
    "collapsed": false
   },
   "outputs": [],
   "source": [
    "#One Hot Encoding \n",
    "from sklearn.feature_extraction import DictVectorizer  \n",
    "enc = DictVectorizer()\n",
    "X_encoded_total =enc.fit_transform(X_total)\n",
    "X_encoded_train =X_encoded_total[:len(X_tr)]\n",
    "X_encoded_test =X_encoded_total[len(X_tr):]"
   ]
  },
  {
   "cell_type": "code",
   "execution_count": 30,
   "metadata": {
    "collapsed": false
   },
   "outputs": [
    {
     "ename": "MemoryError",
     "evalue": "",
     "output_type": "error",
     "traceback": [
      "\u001b[1;31m---------------------------------------------------------------------------\u001b[0m",
      "\u001b[1;31mMemoryError\u001b[0m                               Traceback (most recent call last)",
      "\u001b[1;32m<ipython-input-30-e6dbae91851f>\u001b[0m in \u001b[0;36m<module>\u001b[1;34m()\u001b[0m\n\u001b[0;32m      6\u001b[0m \u001b[0mreg1\u001b[0m \u001b[1;33m=\u001b[0m \u001b[0mGaussianNB\u001b[0m\u001b[1;33m(\u001b[0m\u001b[1;33m)\u001b[0m\u001b[1;33m\u001b[0m\u001b[0m\n\u001b[0;32m      7\u001b[0m \u001b[1;33m\u001b[0m\u001b[0m\n\u001b[1;32m----> 8\u001b[1;33m \u001b[0mreg1\u001b[0m\u001b[1;33m.\u001b[0m\u001b[0mfit\u001b[0m\u001b[1;33m(\u001b[0m\u001b[0mX_encoded_train\u001b[0m\u001b[1;33m.\u001b[0m\u001b[0mtoarray\u001b[0m\u001b[1;33m(\u001b[0m\u001b[1;33m)\u001b[0m\u001b[1;33m,\u001b[0m\u001b[0mY\u001b[0m\u001b[1;33m)\u001b[0m\u001b[1;33m\u001b[0m\u001b[0m\n\u001b[0m",
      "\u001b[1;32mC:\\Users\\Kowshik\\AppData\\Local\\Enthought\\Canopy\\User\\lib\\site-packages\\scipy\\sparse\\compressed.pyc\u001b[0m in \u001b[0;36mtoarray\u001b[1;34m(self, order, out)\u001b[0m\n\u001b[0;32m    947\u001b[0m     \u001b[1;32mdef\u001b[0m \u001b[0mtoarray\u001b[0m\u001b[1;33m(\u001b[0m\u001b[0mself\u001b[0m\u001b[1;33m,\u001b[0m \u001b[0morder\u001b[0m\u001b[1;33m=\u001b[0m\u001b[0mNone\u001b[0m\u001b[1;33m,\u001b[0m \u001b[0mout\u001b[0m\u001b[1;33m=\u001b[0m\u001b[0mNone\u001b[0m\u001b[1;33m)\u001b[0m\u001b[1;33m:\u001b[0m\u001b[1;33m\u001b[0m\u001b[0m\n\u001b[0;32m    948\u001b[0m         \u001b[1;34m\"\"\"See the docstring for `spmatrix.toarray`.\"\"\"\u001b[0m\u001b[1;33m\u001b[0m\u001b[0m\n\u001b[1;32m--> 949\u001b[1;33m         \u001b[1;32mreturn\u001b[0m \u001b[0mself\u001b[0m\u001b[1;33m.\u001b[0m\u001b[0mtocoo\u001b[0m\u001b[1;33m(\u001b[0m\u001b[0mcopy\u001b[0m\u001b[1;33m=\u001b[0m\u001b[0mFalse\u001b[0m\u001b[1;33m)\u001b[0m\u001b[1;33m.\u001b[0m\u001b[0mtoarray\u001b[0m\u001b[1;33m(\u001b[0m\u001b[0morder\u001b[0m\u001b[1;33m=\u001b[0m\u001b[0morder\u001b[0m\u001b[1;33m,\u001b[0m \u001b[0mout\u001b[0m\u001b[1;33m=\u001b[0m\u001b[0mout\u001b[0m\u001b[1;33m)\u001b[0m\u001b[1;33m\u001b[0m\u001b[0m\n\u001b[0m\u001b[0;32m    950\u001b[0m \u001b[1;33m\u001b[0m\u001b[0m\n\u001b[0;32m    951\u001b[0m     \u001b[1;31m##############################################################\u001b[0m\u001b[1;33m\u001b[0m\u001b[1;33m\u001b[0m\u001b[0m\n",
      "\u001b[1;32mC:\\Users\\Kowshik\\AppData\\Local\\Enthought\\Canopy\\User\\lib\\site-packages\\scipy\\sparse\\coo.pyc\u001b[0m in \u001b[0;36mtoarray\u001b[1;34m(self, order, out)\u001b[0m\n\u001b[0;32m    272\u001b[0m     \u001b[1;32mdef\u001b[0m \u001b[0mtoarray\u001b[0m\u001b[1;33m(\u001b[0m\u001b[0mself\u001b[0m\u001b[1;33m,\u001b[0m \u001b[0morder\u001b[0m\u001b[1;33m=\u001b[0m\u001b[0mNone\u001b[0m\u001b[1;33m,\u001b[0m \u001b[0mout\u001b[0m\u001b[1;33m=\u001b[0m\u001b[0mNone\u001b[0m\u001b[1;33m)\u001b[0m\u001b[1;33m:\u001b[0m\u001b[1;33m\u001b[0m\u001b[0m\n\u001b[0;32m    273\u001b[0m         \u001b[1;34m\"\"\"See the docstring for `spmatrix.toarray`.\"\"\"\u001b[0m\u001b[1;33m\u001b[0m\u001b[0m\n\u001b[1;32m--> 274\u001b[1;33m         \u001b[0mB\u001b[0m \u001b[1;33m=\u001b[0m \u001b[0mself\u001b[0m\u001b[1;33m.\u001b[0m\u001b[0m_process_toarray_args\u001b[0m\u001b[1;33m(\u001b[0m\u001b[0morder\u001b[0m\u001b[1;33m,\u001b[0m \u001b[0mout\u001b[0m\u001b[1;33m)\u001b[0m\u001b[1;33m\u001b[0m\u001b[0m\n\u001b[0m\u001b[0;32m    275\u001b[0m         \u001b[0mfortran\u001b[0m \u001b[1;33m=\u001b[0m \u001b[0mint\u001b[0m\u001b[1;33m(\u001b[0m\u001b[0mB\u001b[0m\u001b[1;33m.\u001b[0m\u001b[0mflags\u001b[0m\u001b[1;33m.\u001b[0m\u001b[0mf_contiguous\u001b[0m\u001b[1;33m)\u001b[0m\u001b[1;33m\u001b[0m\u001b[0m\n\u001b[0;32m    276\u001b[0m         \u001b[1;32mif\u001b[0m \u001b[1;32mnot\u001b[0m \u001b[0mfortran\u001b[0m \u001b[1;32mand\u001b[0m \u001b[1;32mnot\u001b[0m \u001b[0mB\u001b[0m\u001b[1;33m.\u001b[0m\u001b[0mflags\u001b[0m\u001b[1;33m.\u001b[0m\u001b[0mc_contiguous\u001b[0m\u001b[1;33m:\u001b[0m\u001b[1;33m\u001b[0m\u001b[0m\n",
      "\u001b[1;32mC:\\Users\\Kowshik\\AppData\\Local\\Enthought\\Canopy\\User\\lib\\site-packages\\scipy\\sparse\\base.pyc\u001b[0m in \u001b[0;36m_process_toarray_args\u001b[1;34m(self, order, out)\u001b[0m\n\u001b[0;32m    798\u001b[0m             \u001b[1;32mreturn\u001b[0m \u001b[0mout\u001b[0m\u001b[1;33m\u001b[0m\u001b[0m\n\u001b[0;32m    799\u001b[0m         \u001b[1;32melse\u001b[0m\u001b[1;33m:\u001b[0m\u001b[1;33m\u001b[0m\u001b[0m\n\u001b[1;32m--> 800\u001b[1;33m             \u001b[1;32mreturn\u001b[0m \u001b[0mnp\u001b[0m\u001b[1;33m.\u001b[0m\u001b[0mzeros\u001b[0m\u001b[1;33m(\u001b[0m\u001b[0mself\u001b[0m\u001b[1;33m.\u001b[0m\u001b[0mshape\u001b[0m\u001b[1;33m,\u001b[0m \u001b[0mdtype\u001b[0m\u001b[1;33m=\u001b[0m\u001b[0mself\u001b[0m\u001b[1;33m.\u001b[0m\u001b[0mdtype\u001b[0m\u001b[1;33m,\u001b[0m \u001b[0morder\u001b[0m\u001b[1;33m=\u001b[0m\u001b[0morder\u001b[0m\u001b[1;33m)\u001b[0m\u001b[1;33m\u001b[0m\u001b[0m\n\u001b[0m\u001b[0;32m    801\u001b[0m \u001b[1;33m\u001b[0m\u001b[0m\n\u001b[0;32m    802\u001b[0m     \u001b[1;32mdef\u001b[0m \u001b[0m__numpy_ufunc__\u001b[0m\u001b[1;33m(\u001b[0m\u001b[0mself\u001b[0m\u001b[1;33m,\u001b[0m \u001b[0mfunc\u001b[0m\u001b[1;33m,\u001b[0m \u001b[0mmethod\u001b[0m\u001b[1;33m,\u001b[0m \u001b[0mpos\u001b[0m\u001b[1;33m,\u001b[0m \u001b[0minputs\u001b[0m\u001b[1;33m,\u001b[0m \u001b[1;33m**\u001b[0m\u001b[0mkwargs\u001b[0m\u001b[1;33m)\u001b[0m\u001b[1;33m:\u001b[0m\u001b[1;33m\u001b[0m\u001b[0m\n",
      "\u001b[1;31mMemoryError\u001b[0m: "
     ]
    }
   ],
   "source": [
    "from sklearn.ensemble import GradientBoostingRegressor,ExtraTreesRegressor,BaggingRegressor,RandomForestClassifier,GradientBoostingClassifier\n",
    "from sklearn.svm import OneClassSVM\n",
    "from sklearn.tree import DecisionTreeClassifier\n",
    "from sklearn.naive_bayes import GaussianNB\n",
    "\n",
    "reg1 = GaussianNB()\n",
    "\n",
    "reg1.fit(X_encoded_train.toarray(),Y)"
   ]
  },
  {
   "cell_type": "code",
   "execution_count": null,
   "metadata": {
    "collapsed": false
   },
   "outputs": [],
   "source": []
  },
  {
   "cell_type": "code",
   "execution_count": 24,
   "metadata": {
    "collapsed": false
   },
   "outputs": [],
   "source": [
    "pred = reg1.predict(X_encoded_test)"
   ]
  },
  {
   "cell_type": "code",
   "execution_count": 25,
   "metadata": {
    "collapsed": false
   },
   "outputs": [
    {
     "data": {
      "text/plain": [
       "107517"
      ]
     },
     "execution_count": 25,
     "metadata": {},
     "output_type": "execute_result"
    }
   ],
   "source": [
    "sum(pred)"
   ]
  },
  {
   "cell_type": "code",
   "execution_count": 26,
   "metadata": {
    "collapsed": true
   },
   "outputs": [],
   "source": [
    "df_sol = pandas.read_csv('Solution.csv')"
   ]
  },
  {
   "cell_type": "code",
   "execution_count": 27,
   "metadata": {
    "collapsed": true
   },
   "outputs": [],
   "source": [
    "df_sol['Buy_or_not'] = pred"
   ]
  },
  {
   "cell_type": "code",
   "execution_count": null,
   "metadata": {
    "collapsed": true
   },
   "outputs": [],
   "source": []
  },
  {
   "cell_type": "code",
   "execution_count": 28,
   "metadata": {
    "collapsed": false
   },
   "outputs": [],
   "source": [
    "df_sol.to_csv('Solution1.csv')"
   ]
  },
  {
   "cell_type": "code",
   "execution_count": null,
   "metadata": {
    "collapsed": false
   },
   "outputs": [],
   "source": [
    "import numpy as np\n",
    "import matplotlib.pyplot as plt\n",
    "#OUR DATA\n",
    "X = np.arange(1000)\n",
    "Y = Y_test[:1000]\n",
    "x = np.arange(1000)\n",
    "y = pred[:1000]\n",
    "####################\n",
    "#Visuvalization\n",
    "canvas = plt.figure()\n",
    "rect = canvas.patch\n",
    "rect.set_facecolor('white')\n",
    "sp1 = canvas.add_subplot(1,1,1, axisbg='w')\n",
    "sp1.plot(x, y, 'Red', linewidth=2)\n",
    "sp1.plot(X, Y, 'Black', linewidth=1)\n",
    "\n",
    "sp1.patch.set_facecolor('white') #------> background colour\n",
    "\n",
    "sp1.tick_params(axis='x', colors='green') #---------> X-value colour\n",
    "sp1.tick_params(axis='y', colors='red') #----------> y-value colour\n",
    "\n",
    "sp1.spines['bottom'].set_color('black')        #Colour of spines \n",
    "sp1.spines['top'].set_visible('False')\n",
    "sp1.spines['left'].set_color('black')\n",
    "sp1.spines['right'].set_visible('False')\n",
    "\n",
    "sp1.set_title('Impressions vs time Using Extra Classifier', color='red')\n",
    "sp1.set_xlabel('Time,BLUE -Actual', color='red')      #Colour of title and lables \n",
    "sp1.set_ylabel('Impression', color='red')\n",
    "plt.plot(X,Y)\n",
    "plt.plot(x,y)\n",
    "\n",
    "plt.tight_layout()\n",
    "plt.show()"
   ]
  },
  {
   "cell_type": "code",
   "execution_count": null,
   "metadata": {
    "collapsed": false
   },
   "outputs": [],
   "source": [
    "len(pred)"
   ]
  },
  {
   "cell_type": "code",
   "execution_count": null,
   "metadata": {
    "collapsed": false
   },
   "outputs": [],
   "source": [
    "df_hp"
   ]
  },
  {
   "cell_type": "code",
   "execution_count": null,
   "metadata": {
    "collapsed": true
   },
   "outputs": [],
   "source": []
  },
  {
   "cell_type": "code",
   "execution_count": null,
   "metadata": {
    "collapsed": true
   },
   "outputs": [],
   "source": []
  },
  {
   "cell_type": "code",
   "execution_count": null,
   "metadata": {
    "collapsed": true
   },
   "outputs": [],
   "source": []
  },
  {
   "cell_type": "code",
   "execution_count": null,
   "metadata": {
    "collapsed": true
   },
   "outputs": [],
   "source": []
  },
  {
   "cell_type": "code",
   "execution_count": null,
   "metadata": {
    "collapsed": true
   },
   "outputs": [],
   "source": []
  },
  {
   "cell_type": "code",
   "execution_count": null,
   "metadata": {
    "collapsed": true
   },
   "outputs": [],
   "source": []
  },
  {
   "cell_type": "code",
   "execution_count": null,
   "metadata": {
    "collapsed": true
   },
   "outputs": [],
   "source": []
  },
  {
   "cell_type": "code",
   "execution_count": null,
   "metadata": {
    "collapsed": true
   },
   "outputs": [],
   "source": []
  },
  {
   "cell_type": "code",
   "execution_count": null,
   "metadata": {
    "collapsed": true
   },
   "outputs": [],
   "source": []
  },
  {
   "cell_type": "code",
   "execution_count": null,
   "metadata": {
    "collapsed": true
   },
   "outputs": [],
   "source": []
  },
  {
   "cell_type": "code",
   "execution_count": null,
   "metadata": {
    "collapsed": true
   },
   "outputs": [],
   "source": []
  },
  {
   "cell_type": "code",
   "execution_count": null,
   "metadata": {
    "collapsed": true
   },
   "outputs": [],
   "source": []
  },
  {
   "cell_type": "code",
   "execution_count": null,
   "metadata": {
    "collapsed": true
   },
   "outputs": [],
   "source": []
  },
  {
   "cell_type": "code",
   "execution_count": null,
   "metadata": {
    "collapsed": false
   },
   "outputs": [],
   "source": [
    "hospital_dis= {}\n",
    "for i in np.unique(df_hp['Hospital_ID'].values):\n",
    "    hospital_dis[i] = {}\n",
    "    index = [j for j,x in enumerate(df_hp['Hospital_ID'].values) if x == i]\n",
    "    hospital_dis[i] = len(np.unique([df_hp['District_ID'].values[k]for k in index]))   "
   ]
  },
  {
   "cell_type": "code",
   "execution_count": null,
   "metadata": {
    "collapsed": false
   },
   "outputs": [],
   "source": [
    "hospital_em = {}\n",
    "for i in np.unique(df_hp['Hospital_ID'].values):\n",
    "    hospital_em[i] = {}\n",
    "    index = [j for j,x in enumerate(df_hp['Hospital_ID'].values) if x == i]\n",
    "    hospital_em[i] = sum([df_hp['Hospital_employees'].values[k]for k in index])  \n",
    "hospital_em['Hospital 1227'] = 100\n",
    "hospital_em['Hospital 1234']  = 50\n",
    "hospital_em['Hospital 1282']  = 50\n",
    "hospital_em['Hospital 1293']  = 50\n",
    "hospital_em['Hospital 174']  = 50\n",
    "hospital_em['Hospital 408']  = 50"
   ]
  },
  {
   "cell_type": "code",
   "execution_count": null,
   "metadata": {
    "collapsed": false
   },
   "outputs": [],
   "source": [
    "instrument_performance = {}\n",
    "instrument_count = {}\n",
    "s = 0\n",
    "l = 0\n",
    "for i in np.unique(df_hr['Instrument_ID'].values):\n",
    "    for j in range(len(df_hr)):\n",
    "        if df_hr['Instrument_ID'].values[j] == i:\n",
    "            l = l+df_hr['Year Total'].values[j]\n",
    "            s = s+1\n",
    "    instrument_count[i] = s\n",
    "    instrument_performance[i] = l"
   ]
  },
  {
   "cell_type": "code",
   "execution_count": null,
   "metadata": {
    "collapsed": false
   },
   "outputs": [],
   "source": [
    "district_hos= {}\n",
    "for i in np.unique(df_hr['District_ID'].values):\n",
    "    district_hos[i] = {}\n",
    "    index = [j for j,x in enumerate(df_hr['District_ID'].values) if x == i]\n",
    "    district_hos[i] = len(np.unique([df_hr['Hospital_ID'].values[k]for k in index]))\n",
    "district_hos['District 53'] = 50"
   ]
  },
  {
   "cell_type": "code",
   "execution_count": null,
   "metadata": {
    "collapsed": false
   },
   "outputs": [],
   "source": [
    "district_em = {}\n",
    "for i in np.unique(df_hp['District_ID'].values):\n",
    "    district_em[i] = {}\n",
    "    index = [j for j,x in enumerate(df_hp['District_ID'].values) if x == i]\n",
    "    district_em[i] = sum([df_hp['Hospital_employees'].values[k]for k in index]) \n",
    "district_em['District 50'] = 100\n",
    "district_em['District 51'] = 100\n",
    "district_em['District 52'] = 100\n",
    "district_em['District 47'] = 100"
   ]
  },
  {
   "cell_type": "code",
   "execution_count": null,
   "metadata": {
    "collapsed": false
   },
   "outputs": [],
   "source": [
    "len(np.unique(df_hr['Instrument_ID'].values))"
   ]
  },
  {
   "cell_type": "code",
   "execution_count": null,
   "metadata": {
    "collapsed": false
   },
   "outputs": [],
   "source": [
    "df_pr = df_pr[df_pr.District_ID != 'No District Available']\n",
    "df_hr = df_hr[df_hr.District_ID != 'No District Available']"
   ]
  },
  {
   "cell_type": "markdown",
   "metadata": {},
   "source": [
    "# Training "
   ]
  },
  {
   "cell_type": "code",
   "execution_count": null,
   "metadata": {
    "collapsed": false
   },
   "outputs": [],
   "source": [
    "#hospital_district = [hospital_dis[k]for k in df_pr['Hospital_ID'].values]\n",
    "#hospital_empl = [hospital_em[k]for k in df_s['Hospital_ID'].values]\n",
    "#district_hosp = [district_hos[k]for k in df_pr['District_ID'].values]\n",
    "#district_emp = [district_em[k]for k in df_pr['District_ID'].values]\n",
    "#instrument_per = [instrument_performance[k]/instrument_count[k] for k in df_pr['Instrument_ID'].values]\n",
    "#df_pr['hospital_district'] = hospital_district\n",
    "#df_pr['district_hosp'] = district_hosp\n",
    "#df_pr['district_emp'] = district_emp\n",
    "#df_pr['instrument_per'] = instrument_per"
   ]
  },
  {
   "cell_type": "code",
   "execution_count": null,
   "metadata": {
    "collapsed": false
   },
   "outputs": [],
   "source": [
    "hospital_district = [hospital_dis[k]for k in df_s['Hospital_ID'].values]\n",
    "#hospital_empl = [hospital_em[k]for k in df_s['Hospital_ID'].values]\n",
    "district_hosp = [district_hos[k]for k in df_s['District_ID'].values]\n",
    "district_emp = [district_em[k]for k in df_s['District_ID'].values]\n",
    "instrument_per = [instrument_performance[k]/instrument_count[k] for k in df_s['Instrument_ID'].values]\n",
    "df_s['hospital_district'] = hospital_district\n",
    "df_s['district_hosp'] = district_hosp\n",
    "df_s['district_emp'] = district_emp\n",
    "df_s['instrument_per'] = instrument_per"
   ]
  },
  {
   "cell_type": "code",
   "execution_count": null,
   "metadata": {
    "collapsed": false
   },
   "outputs": [],
   "source": [
    "hospital_district = [hospital_dis[k]for k in df_hr['Hospital_ID'].values]\n",
    "#hospital_empl = [hospital_em[k]for k in df_s['Hospital_ID'].values]\n",
    "district_hosp = [district_hos[k]for k in df_hr['District_ID'].values]\n",
    "district_emp = [district_em[k]for k in df_hr['District_ID'].values]\n",
    "instrument_per = [instrument_performance[k]/instrument_count[k] for k in df_hr['Instrument_ID'].values]\n",
    "df_hr['hospital_district'] = hospital_district\n",
    "df_hr['district_hosp'] = district_hosp\n",
    "df_hr['district_emp'] = district_emp\n",
    "df_hr['instrument_per'] = instrument_per"
   ]
  },
  {
   "cell_type": "code",
   "execution_count": null,
   "metadata": {
    "collapsed": false
   },
   "outputs": [],
   "source": [
    "\n",
    "del df_hr['Month 1']\n",
    "del df_hr['Month 2']  \n",
    "del df_hr['Month 3']   \n",
    "del df_hr['Month 4']   \n",
    "del df_hr['Month 5'] \n",
    "del df_hr['Month 6']   \n",
    "del df_hr['Month 7']   \n",
    "del df_hr['Month 8']   \n",
    "del df_hr['Month 9']   \n",
    "del df_hr['Month 10']   \n",
    "del df_hr['Month 11']   \n",
    "del df_hr['Month 12']   \n",
    "del df_hr['Region_ID']   "
   ]
  },
  {
   "cell_type": "code",
   "execution_count": null,
   "metadata": {
    "collapsed": false
   },
   "outputs": [],
   "source": [
    "Y = df_pr['Annual_Projected_Revenue'].values\n",
    "del df_pr['Annual_Projected_Revenue']   \n",
    "X_train = df_pr.to_dict('records')\n",
    "X= []\n",
    "X.extend(X_train)"
   ]
  },
  {
   "cell_type": "code",
   "execution_count": null,
   "metadata": {
    "collapsed": false
   },
   "outputs": [],
   "source": [
    "from sklearn.feature_extraction import DictVectorizer    \n",
    "#One Hot Encoding \n",
    "Ts = 0.8\n",
    "enc = DictVectorizer()\n",
    "X_encoded_total =enc.fit_transform(X)\n",
    "X_encoded_train =X_encoded_total[:Ts*len(X)]\n",
    "X_encoded_test =X_encoded_total[Ts*len(X):]\n",
    "\n",
    "Y_Train = Y[:Ts*len(X)]\n",
    "Y_Test = Y[Ts*len(X):]"
   ]
  },
  {
   "cell_type": "code",
   "execution_count": null,
   "metadata": {
    "collapsed": false
   },
   "outputs": [],
   "source": [
    "from sklearn.ensemble import GradientBoostingRegressor,ExtraTreesRegressor,BaggingRegressor,RandomForestRegressor\n",
    "reg = BaggingRegressor(n_jobs=-1)\n",
    "reg.fit(X_encoded_train,Y_Train )"
   ]
  },
  {
   "cell_type": "code",
   "execution_count": null,
   "metadata": {
    "collapsed": true
   },
   "outputs": [],
   "source": [
    " Y_pred_projected = reg.predict(X_encoded_test)"
   ]
  },
  {
   "cell_type": "code",
   "execution_count": null,
   "metadata": {
    "collapsed": false
   },
   "outputs": [],
   "source": [
    "Y_test = Y_Test\n",
    "Y_pred = Y_pred_projected\n",
    "MMSE = []\n",
    "BMSE = []\n",
    "for i in range(len(Y_test)):\n",
    "        MMSE.append((Y_pred[i] - Y_test[i])**2)\n",
    "        BMSE.append((Y_test[i] - np.mean(Y_test))**2)\n",
    "mmse = sum(MMSE)/len(Y_pred)\n",
    "bmse = sum(BMSE)/len(Y_pred)\n",
    "s = (bmse- mmse)/bmse\n"
   ]
  },
  {
   "cell_type": "code",
   "execution_count": null,
   "metadata": {
    "collapsed": false
   },
   "outputs": [],
   "source": [
    "s"
   ]
  },
  {
   "cell_type": "code",
   "execution_count": null,
   "metadata": {
    "collapsed": true
   },
   "outputs": [],
   "source": []
  }
 ],
 "metadata": {
  "kernelspec": {
   "display_name": "Python 2",
   "language": "python",
   "name": "python2"
  },
  "language_info": {
   "codemirror_mode": {
    "name": "ipython",
    "version": 2
   },
   "file_extension": ".py",
   "mimetype": "text/x-python",
   "name": "python",
   "nbconvert_exporter": "python",
   "pygments_lexer": "ipython2",
   "version": "2.7.10"
  }
 },
 "nbformat": 4,
 "nbformat_minor": 0
}

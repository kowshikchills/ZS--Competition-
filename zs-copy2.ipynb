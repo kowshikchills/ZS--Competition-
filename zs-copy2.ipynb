{
 "cells": [
  {
   "cell_type": "code",
   "execution_count": 1,
   "metadata": {
    "collapsed": false
   },
   "outputs": [
    {
     "name": "stderr",
     "output_type": "stream",
     "text": [
      "Using Theano backend.\n",
      "WARNING (theano.configdefaults): g++ not detected ! Theano will be unable to execute optimized C-implementations (for both CPU and GPU) and will default to Python implementations. Performance will be severely degraded. To remove this warning, set Theano flags cxx to an empty string.\n",
      "WARNING:theano.configdefaults:g++ not detected ! Theano will be unable to execute optimized C-implementations (for both CPU and GPU) and will default to Python implementations. Performance will be severely degraded. To remove this warning, set Theano flags cxx to an empty string.\n"
     ]
    }
   ],
   "source": [
    "import numpy\n",
    "import pandas\n",
    "from keras.models import Sequential\n",
    "from keras.layers import Dense\n",
    "from keras.wrappers.scikit_learn import KerasClassifier\n",
    "from sklearn.cross_validation import cross_val_score\n",
    "from sklearn.preprocessing import LabelEncoder\n",
    "from sklearn.cross_validation import StratifiedKFold\n",
    "from sklearn.preprocessing import StandardScaler\n",
    "from sklearn.pipeline import Pipeline"
   ]
  },
  {
   "cell_type": "code",
   "execution_count": 2,
   "metadata": {
    "collapsed": true
   },
   "outputs": [],
   "source": [
    "\n",
    "# fix random seed for reproducibility\n",
    "seed = 7\n",
    "numpy.random.seed(seed)"
   ]
  },
  {
   "cell_type": "code",
   "execution_count": 3,
   "metadata": {
    "collapsed": false
   },
   "outputs": [],
   "source": [
    "# load dataset\n",
    "dataframe = pandas.read_csv(\"x.csv\")\n",
    "dataframe.Hospital_ID= dataframe.Hospital_ID.astype(str)\n",
    "dataframe.District_ID= dataframe.District_ID.astype(str)\n",
    "dataframe.Instrument_ID= dataframe.Instrument_ID.astype(str)\n",
    "Y = dataframe['Binary'].values\n",
    "del dataframe['Binary']\n",
    "dataset = dataframe.values\n",
    "# split into input (X) and output (Y) variables\n",
    "X= dataset.astype(float)"
   ]
  },
  {
   "cell_type": "code",
   "execution_count": 4,
   "metadata": {
    "collapsed": false
   },
   "outputs": [],
   "source": [
    "dataframe_test = pandas.read_csv(\"Solution.csv\")\n",
    "Hospital_ID = []\n",
    "District_ID = []\n",
    "Instrument_ID = []\n",
    "for i in range(len(dataframe_test)):\n",
    "    Hospital_ID.append(int(filter(str.isdigit, dataframe_test['Hospital_ID'].values[i])))\n",
    "    District_ID.append(int(filter(str.isdigit, dataframe_test['District_ID'].values[i])))\n",
    "    Instrument_ID.append(int(filter(str.isdigit, dataframe_test['Instrument_ID'].values[i])))\n",
    "dataframe_test['Hospital_ID'] =  Hospital_ID  \n",
    "dataframe_test['District_ID'] =  District_ID \n",
    "dataframe_test['Instrument_ID'] =  Instrument_ID\n",
    "dataframe_test.Hospital_ID= dataframe_test.Hospital_ID.astype(str)\n",
    "dataframe_test.District_ID= dataframe_test.District_ID.astype(str)\n",
    "dataframe_test.Instrument_ID= dataframe_test.Instrument_ID.astype(str)\n",
    "del dataframe_test['Revenue']\n",
    "del dataframe_test['Buy_or_not']\n",
    "dataset_test = dataframe_test.values\n",
    "# split into input (X) and output (Y) variables\n",
    "X_test= dataset.astype(float)"
   ]
  },
  {
   "cell_type": "code",
   "execution_count": 5,
   "metadata": {
    "collapsed": true
   },
   "outputs": [],
   "source": [
    "# baseline model\n",
    "def create_baseline():\n",
    "    # create model\n",
    "    model = Sequential()\n",
    "    model.add(Dense(30, input_dim=3, init='normal', activation='relu'))\n",
    "    model.add(Dense(1, init='normal', activation='sigmoid'))\n",
    "    # Compile model\n",
    "    model.compile(loss='binary_crossentropy', optimizer='adam', metrics=['accuracy'])\n",
    "    return model"
   ]
  },
  {
   "cell_type": "code",
   "execution_count": 6,
   "metadata": {
    "collapsed": true
   },
   "outputs": [],
   "source": [
    "estimator = KerasClassifier(build_fn=create_baseline, nb_epoch=1, batch_size=5, verbose=0)"
   ]
  },
  {
   "cell_type": "code",
   "execution_count": null,
   "metadata": {
    "collapsed": false
   },
   "outputs": [],
   "source": [
    "estimator.fit(X,Y)"
   ]
  },
  {
   "cell_type": "code",
   "execution_count": 28,
   "metadata": {
    "collapsed": false
   },
   "outputs": [
    {
     "data": {
      "text/plain": [
       "array([[0],\n",
       "       [0],\n",
       "       [0],\n",
       "       [0],\n",
       "       [0],\n",
       "       [0],\n",
       "       [0],\n",
       "       [0],\n",
       "       [0],\n",
       "       [0],\n",
       "       [0],\n",
       "       [0],\n",
       "       [0],\n",
       "       [0],\n",
       "       [0],\n",
       "       [0],\n",
       "       [0],\n",
       "       [0],\n",
       "       [0],\n",
       "       [0],\n",
       "       [0],\n",
       "       [0],\n",
       "       [0],\n",
       "       [0],\n",
       "       [0],\n",
       "       [0],\n",
       "       [0],\n",
       "       [0],\n",
       "       [0],\n",
       "       [0],\n",
       "       [0],\n",
       "       [0],\n",
       "       [0],\n",
       "       [0],\n",
       "       [0],\n",
       "       [0],\n",
       "       [0],\n",
       "       [0],\n",
       "       [0],\n",
       "       [0],\n",
       "       [0],\n",
       "       [0],\n",
       "       [0],\n",
       "       [0],\n",
       "       [0],\n",
       "       [0],\n",
       "       [0],\n",
       "       [0],\n",
       "       [0],\n",
       "       [0],\n",
       "       [0],\n",
       "       [0],\n",
       "       [0],\n",
       "       [0],\n",
       "       [0],\n",
       "       [0],\n",
       "       [0],\n",
       "       [0],\n",
       "       [0],\n",
       "       [0],\n",
       "       [0],\n",
       "       [0],\n",
       "       [0],\n",
       "       [0],\n",
       "       [0],\n",
       "       [0],\n",
       "       [0],\n",
       "       [0],\n",
       "       [0],\n",
       "       [0],\n",
       "       [0],\n",
       "       [0],\n",
       "       [0],\n",
       "       [0],\n",
       "       [0],\n",
       "       [0],\n",
       "       [0],\n",
       "       [0],\n",
       "       [0],\n",
       "       [0],\n",
       "       [0],\n",
       "       [0],\n",
       "       [0],\n",
       "       [0],\n",
       "       [0],\n",
       "       [0],\n",
       "       [0],\n",
       "       [0],\n",
       "       [0],\n",
       "       [0],\n",
       "       [0],\n",
       "       [0],\n",
       "       [0],\n",
       "       [0],\n",
       "       [0],\n",
       "       [0],\n",
       "       [0],\n",
       "       [0],\n",
       "       [0],\n",
       "       [0]])"
      ]
     },
     "execution_count": 28,
     "metadata": {},
     "output_type": "execute_result"
    }
   ],
   "source": [
    "pred = estimator.predict(X_test)\n",
    "df_sol = pandas.read_csv('Solution.csv')\n",
    "df_sol['Buy_or_not'] = pred\n",
    "from pandas import ExcelWriter\n",
    "writer = ExcelWriter('output.xlsx')\n",
    "df_sol.to_excel(writer,'Sheet1')\n",
    "writer.save()"
   ]
  },
  {
   "cell_type": "code",
   "execution_count": null,
   "metadata": {
    "collapsed": true
   },
   "outputs": [],
   "source": []
  },
  {
   "cell_type": "code",
   "execution_count": null,
   "metadata": {
    "collapsed": true
   },
   "outputs": [],
   "source": []
  },
  {
   "cell_type": "code",
   "execution_count": null,
   "metadata": {
    "collapsed": true
   },
   "outputs": [],
   "source": []
  },
  {
   "cell_type": "code",
   "execution_count": null,
   "metadata": {
    "collapsed": true
   },
   "outputs": [],
   "source": []
  },
  {
   "cell_type": "code",
   "execution_count": 42,
   "metadata": {
    "collapsed": true
   },
   "outputs": [],
   "source": [
    "# (h,d) pair -> employees\n",
    "hd_to_employees = {}\n",
    "for index, row in hospitals.iterrows():\n",
    "    hid = get_id(row['Hospital_ID'], 'Hospital')\n",
    "    did = get_id(row['District_ID'], 'District')\n",
    "    employees = row['Hospital_employees']\n",
    "    hd_to_employees[(hid, did)] = employees"
   ]
  },
  {
   "cell_type": "code",
   "execution_count": 43,
   "metadata": {
    "collapsed": true
   },
   "outputs": [],
   "source": [
    "N = len(revenue)\n",
    "hids = np.zeros((N,1), dtype='uint')\n",
    "dids = np.zeros((N,1), dtype='uint')\n",
    "iids = np.zeros((N,1), dtype='uint')\n",
    "emps = np.zeros((N,1))\n",
    "revs = np.zeros((N,1)) #to predict"
   ]
  },
  {
   "cell_type": "code",
   "execution_count": 44,
   "metadata": {
    "collapsed": true
   },
   "outputs": [],
   "source": [
    "for i, row in revenue.iterrows():\n",
    "    hids[i] = get_id(row['Hospital_ID'], 'Hospital')\n",
    "    dids[i] = get_id(row['District_ID'], 'District')\n",
    "    iids[i] = get_id(row['Instrument_ID'], 'Instrument')\n",
    "    emps[i] = hd_to_employees.get((hids[i][0], dids[i][0]),-1)\n",
    "    revs[i] = row['Year Total']"
   ]
  },
  {
   "cell_type": "code",
   "execution_count": 45,
   "metadata": {
    "collapsed": true
   },
   "outputs": [],
   "source": [
    "revs_mean = revs.mean()\n",
    "revs_std = revs.std()\n",
    "revs = (revs - revs_mean)/(revs_std)"
   ]
  },
  {
   "cell_type": "code",
   "execution_count": 41,
   "metadata": {
    "collapsed": false
   },
   "outputs": [],
   "source": [
    "import numpy as np\n",
    "import pandas as pd\n",
    "from keras.layers import Input, Dense, merge, Embedding, Reshape\n",
    "from keras.optimizers import SGD\n",
    "from keras.models import Model\n",
    "\n",
    "\n",
    "def get_id(id_str, prop):\n",
    "    try:\n",
    "        return int(id_str[len(prop):])\n",
    "    except ValueError:\n",
    "        return 0\n",
    "\n",
    "\n",
    "hospitals = pd.read_csv('HospitalProfiling.csv')\n",
    "revenue = pd.read_csv('HospitalRevenue.csv')"
   ]
  },
  {
   "cell_type": "code",
   "execution_count": 48,
   "metadata": {
    "collapsed": false
   },
   "outputs": [
    {
     "name": "stdout",
     "output_type": "stream",
     "text": [
      "Train on 31047 samples, validate on 13306 samples\n",
      "Epoch 1/1\n",
      "31047/31047 [==============================] - 1430s - loss: 0.1555 - val_loss: 0.1422\n"
     ]
    },
    {
     "data": {
      "text/plain": [
       "<keras.callbacks.History at 0xe4a14a8>"
      ]
     },
     "execution_count": 48,
     "metadata": {},
     "output_type": "execute_result"
    }
   ],
   "source": [
    "emb_len = 20\n",
    "\n",
    "# Keras model\n",
    "hid_node = Input(shape=(1,), dtype='int32')\n",
    "did_node = Input(shape=(1,), dtype='int32')\n",
    "iid_node = Input(shape=(1,), dtype='int32')\n",
    "emp_node = Input(shape=(1,))\n",
    "\n",
    "hid_emb = Reshape((emb_len,))(Embedding(hids.max()+1, emb_len)(hid_node))\n",
    "did_emb = Reshape((emb_len,))(Embedding(dids.max()+1, emb_len)(did_node))\n",
    "iid_emb = Reshape((emb_len,))(Embedding(iids.max()+1, emb_len)(iid_node))\n",
    "\n",
    "merged_ftrs = merge([hid_emb, did_emb, iid_emb], 'concat')\n",
    "pred = Dense(1)(Dense(64, activation='relu')(merged_ftrs))\n",
    "\n",
    "model = Model(input=[hid_node, did_node, iid_node], \n",
    "                output=pred)\n",
    "\n",
    "model.compile(optimizer=SGD(lr=1e-2), loss='mae')\n",
    "\n",
    "model.fit([hids, dids, iids], revs, validation_split=0.3, nb_epoch=1)"
   ]
  },
  {
   "cell_type": "code",
   "execution_count": 49,
   "metadata": {
    "collapsed": false
   },
   "outputs": [],
   "source": [
    "Solution = pd.read_csv('Solution.csv')\n",
    "N = len(Solution)\n",
    "hi = np.zeros((N,1), dtype='uint')\n",
    "di = np.zeros((N,1), dtype='uint')\n",
    "ii = np.zeros((N,1), dtype='uint')\n",
    "for i, row in Solution.iterrows():\n",
    "    hi[i] = get_id(row['Hospital_ID'], 'Hospital')\n",
    "    di[i] = get_id(row['District_ID'], 'District')\n",
    "    ii[i] = get_id(row['Instrument_ID'], 'Instrument')"
   ]
  },
  {
   "cell_type": "code",
   "execution_count": null,
   "metadata": {
    "collapsed": true
   },
   "outputs": [],
   "source": []
  },
  {
   "cell_type": "code",
   "execution_count": null,
   "metadata": {
    "collapsed": true
   },
   "outputs": [],
   "source": []
  },
  {
   "cell_type": "code",
   "execution_count": null,
   "metadata": {
    "collapsed": true
   },
   "outputs": [],
   "source": []
  },
  {
   "cell_type": "code",
   "execution_count": 50,
   "metadata": {
    "collapsed": false
   },
   "outputs": [],
   "source": [
    "import pandas\n",
    "import numpy as np\n",
    "df_hp = pandas.read_csv('HospitalProfiling.csv') \n",
    "df_hr = pandas.read_csv('HospitalRevenue.csv') \n",
    "df_pr = pandas.read_csv('ProjectedRevenue.csv') \n",
    "df_s = pandas.read_csv('Solution.csv')\n",
    "df_x = pandas.read_csv('x.csv')\n",
    "df_pr = df_pr[df_pr.District_ID != 'No District Available']\n",
    "df_hr = df_hr[df_hr.District_ID != 'No District Available']"
   ]
  },
  {
   "cell_type": "code",
   "execution_count": null,
   "metadata": {
    "collapsed": true
   },
   "outputs": [],
   "source": []
  },
  {
   "cell_type": "code",
   "execution_count": null,
   "metadata": {
    "collapsed": false
   },
   "outputs": [],
   "source": [
    "Hospital_ID = []\n",
    "District_ID = []\n",
    "for i in range(len(df_hp)):\n",
    "    Hospital_ID.append(int(filter(str.isdigit, df_hp['Hospital_ID'].values[i])))\n",
    "    District_ID.append(int(filter(str.isdigit, df_hp['District_ID'].values[i])))\n",
    "df_hp['Hospital_ID'] =  Hospital_ID  \n",
    "df_hp['District_ID'] =  District_ID \n",
    "\n",
    "Hospital_ID = []\n",
    "District_ID = []\n",
    "Region_ID = []\n",
    "Instrument_ID = []\n",
    "for i in range(len(df_hr)):\n",
    "    Hospital_ID.append(int(filter(str.isdigit, df_hr['Hospital_ID'].values[i])))\n",
    "    District_ID.append(int(filter(str.isdigit, df_hr['District_ID'].values[i])))\n",
    "    Region_ID.append(int(filter(str.isdigit, df_hr['Region_ID'].values[i])))\n",
    "    Instrument_ID.append(int(filter(str.isdigit, df_hr['Instrument_ID'].values[i])))\n",
    "df_hr['Hospital_ID'] =  Hospital_ID  \n",
    "df_hr['District_ID'] =  District_ID \n",
    "df_hr['Region_ID'] =  Region_ID\n",
    "df_hr['Instrument_ID'] =  Instrument_ID\n",
    "\n",
    "Hospital_ID = []\n",
    "District_ID = []\n",
    "Instrument_ID = []\n",
    "for i in range(len(df_pr)):\n",
    "    Hospital_ID.append(int(filter(str.isdigit, df_pr['Hospital_ID'].values[i])))\n",
    "    District_ID.append(int(filter(str.isdigit, df_pr['District_ID'].values[i])))\n",
    "    Instrument_ID.append(int(filter(str.isdigit, df_pr['Instrument_ID'].values[i])))\n",
    "df_pr['Hospital_ID'] =  Hospital_ID  \n",
    "df_pr['District_ID'] =  District_ID \n",
    "df_pr['Instrument_ID'] =  Instrument_ID\n",
    "\n",
    "\n",
    "Hospital_ID = []\n",
    "District_ID = []\n",
    "Instrument_ID = []\n",
    "for i in range(len(df_s)):\n",
    "    Hospital_ID.append(int(filter(str.isdigit, df_s['Hospital_ID'].values[i])))\n",
    "    District_ID.append(int(filter(str.isdigit, df_s['District_ID'].values[i])))\n",
    "    Instrument_ID.append(int(filter(str.isdigit, df_s['Instrument_ID'].values[i])))\n",
    "df_s['Hospital_ID'] =  Hospital_ID  \n",
    "df_s['District_ID'] =  District_ID \n",
    "df_s['Instrument_ID'] =  Instrument_ID"
   ]
  },
  {
   "cell_type": "code",
   "execution_count": null,
   "metadata": {
    "collapsed": false
   },
   "outputs": [],
   "source": [
    "#ENCODING\n",
    "Y = df_x['Binary'].values\n",
    "del df_x['Binary']\n",
    "X = df_x.to_dict('records')"
   ]
  },
  {
   "cell_type": "code",
   "execution_count": null,
   "metadata": {
    "collapsed": false
   },
   "outputs": [],
   "source": [
    "from sklearn.feature_extraction import DictVectorizer \n",
    "enc = DictVectorizer()\n",
    "X_test = df_s.to_dict('records')\n",
    "X_train =enc.fit_transform(X)"
   ]
  },
  {
   "cell_type": "code",
   "execution_count": null,
   "metadata": {
    "collapsed": false
   },
   "outputs": [],
   "source": [
    "\n",
    "split = 0.8\n",
    "X_encoded_total =enc.fit_transform(X)\n",
    "X_encoded_train =X_encoded_total[:split*len(X)]\n",
    "X_encoded_test =X_encoded_total[split*len(X):]\n",
    "Y_train  = Y[:split*len(Y)]\n",
    "Y_test = Y[split*len(Y):]"
   ]
  },
  {
   "cell_type": "code",
   "execution_count": null,
   "metadata": {
    "collapsed": false
   },
   "outputs": [],
   "source": [
    "from sklearn.ensemble import GradientBoostingRegressor,ExtraTreesRegressor,BaggingRegressor,RandomForestRegressor\n",
    "reg1 = RandomForestRegressor(n_jobs=-1)\n",
    "reg1.fit(X_encoded_train.toarray(),Y_train)"
   ]
  },
  {
   "cell_type": "code",
   "execution_count": null,
   "metadata": {
    "collapsed": true
   },
   "outputs": [],
   "source": []
  },
  {
   "cell_type": "code",
   "execution_count": null,
   "metadata": {
    "collapsed": false
   },
   "outputs": [],
   "source": [
    "pred = reg1.(X_encoded_tes)"
   ]
  },
  {
   "cell_type": "code",
   "execution_count": null,
   "metadata": {
    "collapsed": false
   },
   "outputs": [],
   "source": [
    "import numpy as np\n",
    "import matplotlib.pyplot as plt\n",
    "#OUR DATA\n",
    "X = np.arange(1000)\n",
    "Y = Y_test[:1000]\n",
    "x = np.arange(1000)\n",
    "y = pred[:1000]\n",
    "####################\n",
    "#Visuvalization\n",
    "canvas = plt.figure()\n",
    "rect = canvas.patch\n",
    "rect.set_facecolor('white')\n",
    "sp1 = canvas.add_subplot(1,1,1, axisbg='w')\n",
    "sp1.plot(x, y, 'Red', linewidth=2)\n",
    "sp1.plot(X, Y, 'Black', linewidth=1)\n",
    "\n",
    "sp1.patch.set_facecolor('white') #------> background colour\n",
    "\n",
    "sp1.tick_params(axis='x', colors='green') #---------> X-value colour\n",
    "sp1.tick_params(axis='y', colors='red') #----------> y-value colour\n",
    "\n",
    "sp1.spines['bottom'].set_color('black')        #Colour of spines \n",
    "sp1.spines['top'].set_visible('False')\n",
    "sp1.spines['left'].set_color('black')\n",
    "sp1.spines['right'].set_visible('False')\n",
    "\n",
    "sp1.set_title('Impressions vs time Using Extra Classifier', color='red')\n",
    "sp1.set_xlabel('Time,BLUE -Actual', color='red')      #Colour of title and lables \n",
    "sp1.set_ylabel('Impression', color='red')\n",
    "plt.plot(X,Y)\n",
    "plt.plot(x,y)\n",
    "\n",
    "plt.tight_layout()\n",
    "plt.show()"
   ]
  },
  {
   "cell_type": "code",
   "execution_count": null,
   "metadata": {
    "collapsed": false
   },
   "outputs": [],
   "source": [
    "len(pred)"
   ]
  },
  {
   "cell_type": "code",
   "execution_count": null,
   "metadata": {
    "collapsed": false
   },
   "outputs": [],
   "source": [
    "df_hp"
   ]
  },
  {
   "cell_type": "code",
   "execution_count": null,
   "metadata": {
    "collapsed": true
   },
   "outputs": [],
   "source": []
  },
  {
   "cell_type": "code",
   "execution_count": null,
   "metadata": {
    "collapsed": true
   },
   "outputs": [],
   "source": []
  },
  {
   "cell_type": "code",
   "execution_count": null,
   "metadata": {
    "collapsed": true
   },
   "outputs": [],
   "source": []
  },
  {
   "cell_type": "code",
   "execution_count": null,
   "metadata": {
    "collapsed": true
   },
   "outputs": [],
   "source": []
  },
  {
   "cell_type": "code",
   "execution_count": null,
   "metadata": {
    "collapsed": true
   },
   "outputs": [],
   "source": []
  },
  {
   "cell_type": "code",
   "execution_count": null,
   "metadata": {
    "collapsed": true
   },
   "outputs": [],
   "source": []
  },
  {
   "cell_type": "code",
   "execution_count": null,
   "metadata": {
    "collapsed": true
   },
   "outputs": [],
   "source": []
  },
  {
   "cell_type": "code",
   "execution_count": null,
   "metadata": {
    "collapsed": true
   },
   "outputs": [],
   "source": []
  },
  {
   "cell_type": "code",
   "execution_count": null,
   "metadata": {
    "collapsed": true
   },
   "outputs": [],
   "source": []
  },
  {
   "cell_type": "code",
   "execution_count": null,
   "metadata": {
    "collapsed": true
   },
   "outputs": [],
   "source": []
  },
  {
   "cell_type": "code",
   "execution_count": null,
   "metadata": {
    "collapsed": true
   },
   "outputs": [],
   "source": []
  },
  {
   "cell_type": "code",
   "execution_count": null,
   "metadata": {
    "collapsed": true
   },
   "outputs": [],
   "source": []
  },
  {
   "cell_type": "code",
   "execution_count": null,
   "metadata": {
    "collapsed": true
   },
   "outputs": [],
   "source": []
  },
  {
   "cell_type": "code",
   "execution_count": 10,
   "metadata": {
    "collapsed": false
   },
   "outputs": [],
   "source": [
    "hospital_dis= {}\n",
    "for i in np.unique(df_hp['Hospital_ID'].values):\n",
    "    hospital_dis[i] = {}\n",
    "    index = [j for j,x in enumerate(df_hp['Hospital_ID'].values) if x == i]\n",
    "    hospital_dis[i] = len(np.unique([df_hp['District_ID'].values[k]for k in index]))   "
   ]
  },
  {
   "cell_type": "code",
   "execution_count": 11,
   "metadata": {
    "collapsed": false
   },
   "outputs": [],
   "source": [
    "hospital_em = {}\n",
    "for i in np.unique(df_hp['Hospital_ID'].values):\n",
    "    hospital_em[i] = {}\n",
    "    index = [j for j,x in enumerate(df_hp['Hospital_ID'].values) if x == i]\n",
    "    hospital_em[i] = sum([df_hp['Hospital_employees'].values[k]for k in index])  \n",
    "hospital_em['Hospital 1227'] = 100\n",
    "hospital_em['Hospital 1234']  = 50\n",
    "hospital_em['Hospital 1282']  = 50\n",
    "hospital_em['Hospital 1293']  = 50\n",
    "hospital_em['Hospital 174']  = 50\n",
    "hospital_em['Hospital 408']  = 50"
   ]
  },
  {
   "cell_type": "code",
   "execution_count": 12,
   "metadata": {
    "collapsed": false
   },
   "outputs": [],
   "source": [
    "instrument_performance = {}\n",
    "instrument_count = {}\n",
    "s = 0\n",
    "l = 0\n",
    "for i in np.unique(df_hr['Instrument_ID'].values):\n",
    "    for j in range(len(df_hr)):\n",
    "        if df_hr['Instrument_ID'].values[j] == i:\n",
    "            l = l+df_hr['Year Total'].values[j]\n",
    "            s = s+1\n",
    "    instrument_count[i] = s\n",
    "    instrument_performance[i] = l"
   ]
  },
  {
   "cell_type": "code",
   "execution_count": 13,
   "metadata": {
    "collapsed": false
   },
   "outputs": [],
   "source": [
    "district_hos= {}\n",
    "for i in np.unique(df_hr['District_ID'].values):\n",
    "    district_hos[i] = {}\n",
    "    index = [j for j,x in enumerate(df_hr['District_ID'].values) if x == i]\n",
    "    district_hos[i] = len(np.unique([df_hr['Hospital_ID'].values[k]for k in index]))\n",
    "district_hos['District 53'] = 50"
   ]
  },
  {
   "cell_type": "code",
   "execution_count": 14,
   "metadata": {
    "collapsed": false
   },
   "outputs": [],
   "source": [
    "district_em = {}\n",
    "for i in np.unique(df_hp['District_ID'].values):\n",
    "    district_em[i] = {}\n",
    "    index = [j for j,x in enumerate(df_hp['District_ID'].values) if x == i]\n",
    "    district_em[i] = sum([df_hp['Hospital_employees'].values[k]for k in index]) \n",
    "district_em['District 50'] = 100\n",
    "district_em['District 51'] = 100\n",
    "district_em['District 52'] = 100\n",
    "district_em['District 47'] = 100"
   ]
  },
  {
   "cell_type": "code",
   "execution_count": 15,
   "metadata": {
    "collapsed": false
   },
   "outputs": [],
   "source": [
    "df_pr = df_pr[df_pr.District_ID != 'No District Available']\n",
    "df_hr = df_hr[df_hr.District_ID != 'No District Available']"
   ]
  },
  {
   "cell_type": "markdown",
   "metadata": {},
   "source": [
    "# Training "
   ]
  },
  {
   "cell_type": "code",
   "execution_count": 17,
   "metadata": {
    "collapsed": false
   },
   "outputs": [],
   "source": [
    "#hospital_district = [hospital_dis[k]for k in df_pr['Hospital_ID'].values]\n",
    "#hospital_empl = [hospital_em[k]for k in df_s['Hospital_ID'].values]\n",
    "district_hosp = [district_hos[k]for k in df_pr['District_ID'].values]\n",
    "district_emp = [district_em[k]for k in df_pr['District_ID'].values]\n",
    "instrument_per = [instrument_performance[k]/instrument_count[k] for k in df_pr['Instrument_ID'].values]\n",
    "#df_pr['hospital_district'] = hospital_district\n",
    "df_pr['district_hosp'] = district_hosp\n",
    "df_pr['district_emp'] = district_emp\n",
    "df_pr['instrument_per'] = instrument_per"
   ]
  },
  {
   "cell_type": "code",
   "execution_count": 51,
   "metadata": {
    "collapsed": false
   },
   "outputs": [],
   "source": [
    "#hospital_district = [hospital_dis[k]for k in df_s['Hospital_ID'].values]\n",
    "#hospital_empl = [hospital_em[k]for k in df_s['Hospital_ID'].values]\n",
    "district_hosp = [district_hos[k]for k in df_s['District_ID'].values]\n",
    "district_emp = [district_em[k]for k in df_s['District_ID'].values]\n",
    "instrument_per = [instrument_performance[k]/instrument_count[k] for k in df_s['Instrument_ID'].values]\n",
    "#df_s['hospital_district'] = hospital_district\n",
    "df_s['district_hosp'] = district_hosp\n",
    "df_s['district_emp'] = district_emp\n",
    "df_s['instrument_per'] = instrument_per"
   ]
  },
  {
   "cell_type": "code",
   "execution_count": 52,
   "metadata": {
    "collapsed": false
   },
   "outputs": [],
   "source": [
    "#hospital_district = [hospital_dis[k]for k in df_hr['Hospital_ID'].values]\n",
    "#hospital_empl = [hospital_em[k]for k in df_s['Hospital_ID'].values]\n",
    "district_hosp = [district_hos[k]for k in df_hr['District_ID'].values]\n",
    "district_emp = [district_em[k]for k in df_hr['District_ID'].values]\n",
    "instrument_per = [instrument_performance[k]/instrument_count[k] for k in df_hr['Instrument_ID'].values]\n",
    "#df_hr['hospital_district'] = hospital_district\n",
    "df_hr['district_hosp'] = district_hosp\n",
    "df_hr['district_emp'] = district_emp\n",
    "df_hr['instrument_per'] = instrument_per"
   ]
  },
  {
   "cell_type": "code",
   "execution_count": 53,
   "metadata": {
    "collapsed": false
   },
   "outputs": [],
   "source": [
    "\n",
    "del df_hr['Month 1']\n",
    "del df_hr['Month 2']  \n",
    "del df_hr['Month 3']   \n",
    "del df_hr['Month 4']   \n",
    "del df_hr['Month 5'] \n",
    "del df_hr['Month 6']   \n",
    "del df_hr['Month 7']   \n",
    "del df_hr['Month 8']   \n",
    "del df_hr['Month 9']   \n",
    "del df_hr['Month 10']   \n",
    "del df_hr['Month 11']   \n",
    "del df_hr['Month 12']   \n",
    "del df_hr['Region_ID']   "
   ]
  },
  {
   "cell_type": "code",
   "execution_count": 54,
   "metadata": {
    "collapsed": false
   },
   "outputs": [
    {
     "data": {
      "text/html": [
       "<div>\n",
       "<table border=\"1\" class=\"dataframe\">\n",
       "  <thead>\n",
       "    <tr style=\"text-align: right;\">\n",
       "      <th></th>\n",
       "      <th>Hospital_ID</th>\n",
       "      <th>District_ID</th>\n",
       "      <th>Instrument_ID</th>\n",
       "      <th>Year Total</th>\n",
       "      <th>district_hosp</th>\n",
       "      <th>district_emp</th>\n",
       "      <th>instrument_per</th>\n",
       "    </tr>\n",
       "  </thead>\n",
       "  <tbody>\n",
       "    <tr>\n",
       "      <th>0</th>\n",
       "      <td>Hospital 1</td>\n",
       "      <td>District 12</td>\n",
       "      <td>Instrument 2</td>\n",
       "      <td>103550</td>\n",
       "      <td>643</td>\n",
       "      <td>1823095</td>\n",
       "      <td>43537</td>\n",
       "    </tr>\n",
       "    <tr>\n",
       "      <th>1</th>\n",
       "      <td>Hospital 1</td>\n",
       "      <td>District 12</td>\n",
       "      <td>Instrument 3</td>\n",
       "      <td>2562</td>\n",
       "      <td>643</td>\n",
       "      <td>1823095</td>\n",
       "      <td>35777</td>\n",
       "    </tr>\n",
       "    <tr>\n",
       "      <th>2</th>\n",
       "      <td>Hospital 1</td>\n",
       "      <td>District 13</td>\n",
       "      <td>Instrument 1</td>\n",
       "      <td>187</td>\n",
       "      <td>1054</td>\n",
       "      <td>1881163</td>\n",
       "      <td>3183</td>\n",
       "    </tr>\n",
       "    <tr>\n",
       "      <th>3</th>\n",
       "      <td>Hospital 1</td>\n",
       "      <td>District 13</td>\n",
       "      <td>Instrument 2</td>\n",
       "      <td>40741</td>\n",
       "      <td>1054</td>\n",
       "      <td>1881163</td>\n",
       "      <td>43537</td>\n",
       "    </tr>\n",
       "    <tr>\n",
       "      <th>4</th>\n",
       "      <td>Hospital 1</td>\n",
       "      <td>District 13</td>\n",
       "      <td>Instrument 3</td>\n",
       "      <td>8549</td>\n",
       "      <td>1054</td>\n",
       "      <td>1881163</td>\n",
       "      <td>35777</td>\n",
       "    </tr>\n",
       "    <tr>\n",
       "      <th>5</th>\n",
       "      <td>Hospital 1</td>\n",
       "      <td>District 13</td>\n",
       "      <td>Instrument 4</td>\n",
       "      <td>1421</td>\n",
       "      <td>1054</td>\n",
       "      <td>1881163</td>\n",
       "      <td>33421</td>\n",
       "    </tr>\n",
       "    <tr>\n",
       "      <th>6</th>\n",
       "      <td>Hospital 1</td>\n",
       "      <td>District 13</td>\n",
       "      <td>Instrument 5</td>\n",
       "      <td>4820</td>\n",
       "      <td>1054</td>\n",
       "      <td>1881163</td>\n",
       "      <td>34052</td>\n",
       "    </tr>\n",
       "    <tr>\n",
       "      <th>7</th>\n",
       "      <td>Hospital 1</td>\n",
       "      <td>District 16</td>\n",
       "      <td>Instrument 2</td>\n",
       "      <td>10338</td>\n",
       "      <td>191</td>\n",
       "      <td>184457</td>\n",
       "      <td>43537</td>\n",
       "    </tr>\n",
       "    <tr>\n",
       "      <th>8</th>\n",
       "      <td>Hospital 1</td>\n",
       "      <td>District 18</td>\n",
       "      <td>Instrument 1</td>\n",
       "      <td>15337</td>\n",
       "      <td>631</td>\n",
       "      <td>767213</td>\n",
       "      <td>3183</td>\n",
       "    </tr>\n",
       "    <tr>\n",
       "      <th>9</th>\n",
       "      <td>Hospital 1</td>\n",
       "      <td>District 18</td>\n",
       "      <td>Instrument 2</td>\n",
       "      <td>212707</td>\n",
       "      <td>631</td>\n",
       "      <td>767213</td>\n",
       "      <td>43537</td>\n",
       "    </tr>\n",
       "    <tr>\n",
       "      <th>10</th>\n",
       "      <td>Hospital 1</td>\n",
       "      <td>District 18</td>\n",
       "      <td>Instrument 3</td>\n",
       "      <td>18039</td>\n",
       "      <td>631</td>\n",
       "      <td>767213</td>\n",
       "      <td>35777</td>\n",
       "    </tr>\n",
       "    <tr>\n",
       "      <th>11</th>\n",
       "      <td>Hospital 1</td>\n",
       "      <td>District 18</td>\n",
       "      <td>Instrument 4</td>\n",
       "      <td>6424</td>\n",
       "      <td>631</td>\n",
       "      <td>767213</td>\n",
       "      <td>33421</td>\n",
       "    </tr>\n",
       "    <tr>\n",
       "      <th>12</th>\n",
       "      <td>Hospital 1</td>\n",
       "      <td>District 18</td>\n",
       "      <td>Instrument 5</td>\n",
       "      <td>672</td>\n",
       "      <td>631</td>\n",
       "      <td>767213</td>\n",
       "      <td>34052</td>\n",
       "    </tr>\n",
       "    <tr>\n",
       "      <th>13</th>\n",
       "      <td>Hospital 1</td>\n",
       "      <td>District 18</td>\n",
       "      <td>Instrument 6</td>\n",
       "      <td>313</td>\n",
       "      <td>631</td>\n",
       "      <td>767213</td>\n",
       "      <td>32362</td>\n",
       "    </tr>\n",
       "    <tr>\n",
       "      <th>14</th>\n",
       "      <td>Hospital 1</td>\n",
       "      <td>District 19</td>\n",
       "      <td>Instrument 1</td>\n",
       "      <td>1688</td>\n",
       "      <td>287</td>\n",
       "      <td>366567</td>\n",
       "      <td>3183</td>\n",
       "    </tr>\n",
       "    <tr>\n",
       "      <th>15</th>\n",
       "      <td>Hospital 1</td>\n",
       "      <td>District 19</td>\n",
       "      <td>Instrument 2</td>\n",
       "      <td>12453</td>\n",
       "      <td>287</td>\n",
       "      <td>366567</td>\n",
       "      <td>43537</td>\n",
       "    </tr>\n",
       "    <tr>\n",
       "      <th>16</th>\n",
       "      <td>Hospital 1</td>\n",
       "      <td>District 19</td>\n",
       "      <td>Instrument 7</td>\n",
       "      <td>2543</td>\n",
       "      <td>287</td>\n",
       "      <td>366567</td>\n",
       "      <td>32157</td>\n",
       "    </tr>\n",
       "    <tr>\n",
       "      <th>17</th>\n",
       "      <td>Hospital 1</td>\n",
       "      <td>District 2</td>\n",
       "      <td>Instrument 1</td>\n",
       "      <td>188</td>\n",
       "      <td>241</td>\n",
       "      <td>839632</td>\n",
       "      <td>3183</td>\n",
       "    </tr>\n",
       "    <tr>\n",
       "      <th>18</th>\n",
       "      <td>Hospital 1</td>\n",
       "      <td>District 2</td>\n",
       "      <td>Instrument 2</td>\n",
       "      <td>1864</td>\n",
       "      <td>241</td>\n",
       "      <td>839632</td>\n",
       "      <td>43537</td>\n",
       "    </tr>\n",
       "    <tr>\n",
       "      <th>19</th>\n",
       "      <td>Hospital 1</td>\n",
       "      <td>District 20</td>\n",
       "      <td>Instrument 1</td>\n",
       "      <td>8826</td>\n",
       "      <td>876</td>\n",
       "      <td>475414</td>\n",
       "      <td>3183</td>\n",
       "    </tr>\n",
       "    <tr>\n",
       "      <th>20</th>\n",
       "      <td>Hospital 1</td>\n",
       "      <td>District 20</td>\n",
       "      <td>Instrument 2</td>\n",
       "      <td>142957</td>\n",
       "      <td>876</td>\n",
       "      <td>475414</td>\n",
       "      <td>43537</td>\n",
       "    </tr>\n",
       "    <tr>\n",
       "      <th>21</th>\n",
       "      <td>Hospital 1</td>\n",
       "      <td>District 20</td>\n",
       "      <td>Instrument 3</td>\n",
       "      <td>386041</td>\n",
       "      <td>876</td>\n",
       "      <td>475414</td>\n",
       "      <td>35777</td>\n",
       "    </tr>\n",
       "    <tr>\n",
       "      <th>22</th>\n",
       "      <td>Hospital 1</td>\n",
       "      <td>District 20</td>\n",
       "      <td>Instrument 6</td>\n",
       "      <td>5454</td>\n",
       "      <td>876</td>\n",
       "      <td>475414</td>\n",
       "      <td>32362</td>\n",
       "    </tr>\n",
       "    <tr>\n",
       "      <th>23</th>\n",
       "      <td>Hospital 1</td>\n",
       "      <td>District 20</td>\n",
       "      <td>Instrument 7</td>\n",
       "      <td>13429</td>\n",
       "      <td>876</td>\n",
       "      <td>475414</td>\n",
       "      <td>32157</td>\n",
       "    </tr>\n",
       "    <tr>\n",
       "      <th>24</th>\n",
       "      <td>Hospital 1</td>\n",
       "      <td>District 20</td>\n",
       "      <td>Instrument 8</td>\n",
       "      <td>18207</td>\n",
       "      <td>876</td>\n",
       "      <td>475414</td>\n",
       "      <td>31666</td>\n",
       "    </tr>\n",
       "    <tr>\n",
       "      <th>25</th>\n",
       "      <td>Hospital 1</td>\n",
       "      <td>District 28</td>\n",
       "      <td>Instrument 1</td>\n",
       "      <td>271</td>\n",
       "      <td>784</td>\n",
       "      <td>563468</td>\n",
       "      <td>3183</td>\n",
       "    </tr>\n",
       "    <tr>\n",
       "      <th>26</th>\n",
       "      <td>Hospital 1</td>\n",
       "      <td>District 28</td>\n",
       "      <td>Instrument 2</td>\n",
       "      <td>13793</td>\n",
       "      <td>784</td>\n",
       "      <td>563468</td>\n",
       "      <td>43537</td>\n",
       "    </tr>\n",
       "    <tr>\n",
       "      <th>27</th>\n",
       "      <td>Hospital 1</td>\n",
       "      <td>District 28</td>\n",
       "      <td>Instrument 3</td>\n",
       "      <td>658</td>\n",
       "      <td>784</td>\n",
       "      <td>563468</td>\n",
       "      <td>35777</td>\n",
       "    </tr>\n",
       "    <tr>\n",
       "      <th>28</th>\n",
       "      <td>Hospital 1</td>\n",
       "      <td>District 28</td>\n",
       "      <td>Instrument 4</td>\n",
       "      <td>801</td>\n",
       "      <td>784</td>\n",
       "      <td>563468</td>\n",
       "      <td>33421</td>\n",
       "    </tr>\n",
       "    <tr>\n",
       "      <th>29</th>\n",
       "      <td>Hospital 1</td>\n",
       "      <td>District 28</td>\n",
       "      <td>Instrument 5</td>\n",
       "      <td>23</td>\n",
       "      <td>784</td>\n",
       "      <td>563468</td>\n",
       "      <td>34052</td>\n",
       "    </tr>\n",
       "    <tr>\n",
       "      <th>...</th>\n",
       "      <td>...</td>\n",
       "      <td>...</td>\n",
       "      <td>...</td>\n",
       "      <td>...</td>\n",
       "      <td>...</td>\n",
       "      <td>...</td>\n",
       "      <td>...</td>\n",
       "    </tr>\n",
       "    <tr>\n",
       "      <th>44323</th>\n",
       "      <td>Hospital 999</td>\n",
       "      <td>District 28</td>\n",
       "      <td>Instrument 6</td>\n",
       "      <td>2545</td>\n",
       "      <td>784</td>\n",
       "      <td>563468</td>\n",
       "      <td>32362</td>\n",
       "    </tr>\n",
       "    <tr>\n",
       "      <th>44324</th>\n",
       "      <td>Hospital 999</td>\n",
       "      <td>District 29</td>\n",
       "      <td>Instrument 1</td>\n",
       "      <td>42</td>\n",
       "      <td>379</td>\n",
       "      <td>69557</td>\n",
       "      <td>3183</td>\n",
       "    </tr>\n",
       "    <tr>\n",
       "      <th>44325</th>\n",
       "      <td>Hospital 999</td>\n",
       "      <td>District 29</td>\n",
       "      <td>Instrument 2</td>\n",
       "      <td>4638</td>\n",
       "      <td>379</td>\n",
       "      <td>69557</td>\n",
       "      <td>43537</td>\n",
       "    </tr>\n",
       "    <tr>\n",
       "      <th>44326</th>\n",
       "      <td>Hospital 999</td>\n",
       "      <td>District 29</td>\n",
       "      <td>Instrument 3</td>\n",
       "      <td>244</td>\n",
       "      <td>379</td>\n",
       "      <td>69557</td>\n",
       "      <td>35777</td>\n",
       "    </tr>\n",
       "    <tr>\n",
       "      <th>44327</th>\n",
       "      <td>Hospital 999</td>\n",
       "      <td>District 29</td>\n",
       "      <td>Instrument 4</td>\n",
       "      <td>994</td>\n",
       "      <td>379</td>\n",
       "      <td>69557</td>\n",
       "      <td>33421</td>\n",
       "    </tr>\n",
       "    <tr>\n",
       "      <th>44328</th>\n",
       "      <td>Hospital 999</td>\n",
       "      <td>District 29</td>\n",
       "      <td>Instrument 5</td>\n",
       "      <td>4180</td>\n",
       "      <td>379</td>\n",
       "      <td>69557</td>\n",
       "      <td>34052</td>\n",
       "    </tr>\n",
       "    <tr>\n",
       "      <th>44329</th>\n",
       "      <td>Hospital 999</td>\n",
       "      <td>District 32</td>\n",
       "      <td>Instrument 1</td>\n",
       "      <td>14</td>\n",
       "      <td>502</td>\n",
       "      <td>101247</td>\n",
       "      <td>3183</td>\n",
       "    </tr>\n",
       "    <tr>\n",
       "      <th>44330</th>\n",
       "      <td>Hospital 999</td>\n",
       "      <td>District 32</td>\n",
       "      <td>Instrument 2</td>\n",
       "      <td>1226</td>\n",
       "      <td>502</td>\n",
       "      <td>101247</td>\n",
       "      <td>43537</td>\n",
       "    </tr>\n",
       "    <tr>\n",
       "      <th>44331</th>\n",
       "      <td>Hospital 999</td>\n",
       "      <td>District 32</td>\n",
       "      <td>Instrument 3</td>\n",
       "      <td>368</td>\n",
       "      <td>502</td>\n",
       "      <td>101247</td>\n",
       "      <td>35777</td>\n",
       "    </tr>\n",
       "    <tr>\n",
       "      <th>44332</th>\n",
       "      <td>Hospital 999</td>\n",
       "      <td>District 32</td>\n",
       "      <td>Instrument 5</td>\n",
       "      <td>59</td>\n",
       "      <td>502</td>\n",
       "      <td>101247</td>\n",
       "      <td>34052</td>\n",
       "    </tr>\n",
       "    <tr>\n",
       "      <th>44333</th>\n",
       "      <td>Hospital 999</td>\n",
       "      <td>District 34</td>\n",
       "      <td>Instrument 1</td>\n",
       "      <td>3</td>\n",
       "      <td>472</td>\n",
       "      <td>104168</td>\n",
       "      <td>3183</td>\n",
       "    </tr>\n",
       "    <tr>\n",
       "      <th>44334</th>\n",
       "      <td>Hospital 999</td>\n",
       "      <td>District 34</td>\n",
       "      <td>Instrument 2</td>\n",
       "      <td>1529</td>\n",
       "      <td>472</td>\n",
       "      <td>104168</td>\n",
       "      <td>43537</td>\n",
       "    </tr>\n",
       "    <tr>\n",
       "      <th>44335</th>\n",
       "      <td>Hospital 999</td>\n",
       "      <td>District 35</td>\n",
       "      <td>Instrument 2</td>\n",
       "      <td>17464</td>\n",
       "      <td>277</td>\n",
       "      <td>653754</td>\n",
       "      <td>43537</td>\n",
       "    </tr>\n",
       "    <tr>\n",
       "      <th>44336</th>\n",
       "      <td>Hospital 999</td>\n",
       "      <td>District 37</td>\n",
       "      <td>Instrument 2</td>\n",
       "      <td>198786</td>\n",
       "      <td>357</td>\n",
       "      <td>193138</td>\n",
       "      <td>43537</td>\n",
       "    </tr>\n",
       "    <tr>\n",
       "      <th>44337</th>\n",
       "      <td>Hospital 999</td>\n",
       "      <td>District 37</td>\n",
       "      <td>Instrument 3</td>\n",
       "      <td>23694</td>\n",
       "      <td>357</td>\n",
       "      <td>193138</td>\n",
       "      <td>35777</td>\n",
       "    </tr>\n",
       "    <tr>\n",
       "      <th>44338</th>\n",
       "      <td>Hospital 999</td>\n",
       "      <td>District 37</td>\n",
       "      <td>Instrument 4</td>\n",
       "      <td>2361</td>\n",
       "      <td>357</td>\n",
       "      <td>193138</td>\n",
       "      <td>33421</td>\n",
       "    </tr>\n",
       "    <tr>\n",
       "      <th>44339</th>\n",
       "      <td>Hospital 999</td>\n",
       "      <td>District 39</td>\n",
       "      <td>Instrument 4</td>\n",
       "      <td>195</td>\n",
       "      <td>628</td>\n",
       "      <td>176412</td>\n",
       "      <td>33421</td>\n",
       "    </tr>\n",
       "    <tr>\n",
       "      <th>44340</th>\n",
       "      <td>Hospital 999</td>\n",
       "      <td>District 4</td>\n",
       "      <td>Instrument 2</td>\n",
       "      <td>8364</td>\n",
       "      <td>356</td>\n",
       "      <td>141984</td>\n",
       "      <td>43537</td>\n",
       "    </tr>\n",
       "    <tr>\n",
       "      <th>44341</th>\n",
       "      <td>Hospital 999</td>\n",
       "      <td>District 41</td>\n",
       "      <td>Instrument 2</td>\n",
       "      <td>414</td>\n",
       "      <td>769</td>\n",
       "      <td>660710</td>\n",
       "      <td>43537</td>\n",
       "    </tr>\n",
       "    <tr>\n",
       "      <th>44342</th>\n",
       "      <td>Hospital 999</td>\n",
       "      <td>District 41</td>\n",
       "      <td>Instrument 3</td>\n",
       "      <td>1245</td>\n",
       "      <td>769</td>\n",
       "      <td>660710</td>\n",
       "      <td>35777</td>\n",
       "    </tr>\n",
       "    <tr>\n",
       "      <th>44343</th>\n",
       "      <td>Hospital 999</td>\n",
       "      <td>District 45</td>\n",
       "      <td>Instrument 2</td>\n",
       "      <td>2003</td>\n",
       "      <td>97</td>\n",
       "      <td>127020</td>\n",
       "      <td>43537</td>\n",
       "    </tr>\n",
       "    <tr>\n",
       "      <th>44344</th>\n",
       "      <td>Hospital 999</td>\n",
       "      <td>District 45</td>\n",
       "      <td>Instrument 3</td>\n",
       "      <td>96</td>\n",
       "      <td>97</td>\n",
       "      <td>127020</td>\n",
       "      <td>35777</td>\n",
       "    </tr>\n",
       "    <tr>\n",
       "      <th>44345</th>\n",
       "      <td>Hospital 999</td>\n",
       "      <td>District 46</td>\n",
       "      <td>Instrument 2</td>\n",
       "      <td>219</td>\n",
       "      <td>163</td>\n",
       "      <td>198740</td>\n",
       "      <td>43537</td>\n",
       "    </tr>\n",
       "    <tr>\n",
       "      <th>44346</th>\n",
       "      <td>Hospital 999</td>\n",
       "      <td>District 46</td>\n",
       "      <td>Instrument 3</td>\n",
       "      <td>3068</td>\n",
       "      <td>163</td>\n",
       "      <td>198740</td>\n",
       "      <td>35777</td>\n",
       "    </tr>\n",
       "    <tr>\n",
       "      <th>44347</th>\n",
       "      <td>Hospital 999</td>\n",
       "      <td>District 50</td>\n",
       "      <td>Instrument 2</td>\n",
       "      <td>67255</td>\n",
       "      <td>833</td>\n",
       "      <td>100</td>\n",
       "      <td>43537</td>\n",
       "    </tr>\n",
       "    <tr>\n",
       "      <th>44348</th>\n",
       "      <td>Hospital 999</td>\n",
       "      <td>District 50</td>\n",
       "      <td>Instrument 3</td>\n",
       "      <td>44263</td>\n",
       "      <td>833</td>\n",
       "      <td>100</td>\n",
       "      <td>35777</td>\n",
       "    </tr>\n",
       "    <tr>\n",
       "      <th>44349</th>\n",
       "      <td>Hospital 999</td>\n",
       "      <td>District 50</td>\n",
       "      <td>Instrument 4</td>\n",
       "      <td>27</td>\n",
       "      <td>833</td>\n",
       "      <td>100</td>\n",
       "      <td>33421</td>\n",
       "    </tr>\n",
       "    <tr>\n",
       "      <th>44350</th>\n",
       "      <td>Hospital 999</td>\n",
       "      <td>District 52</td>\n",
       "      <td>Instrument 2</td>\n",
       "      <td>1234</td>\n",
       "      <td>134</td>\n",
       "      <td>100</td>\n",
       "      <td>43537</td>\n",
       "    </tr>\n",
       "    <tr>\n",
       "      <th>44351</th>\n",
       "      <td>Hospital 999</td>\n",
       "      <td>District 52</td>\n",
       "      <td>Instrument 7</td>\n",
       "      <td>5735</td>\n",
       "      <td>134</td>\n",
       "      <td>100</td>\n",
       "      <td>32157</td>\n",
       "    </tr>\n",
       "    <tr>\n",
       "      <th>44352</th>\n",
       "      <td>Hospital 999</td>\n",
       "      <td>District 6</td>\n",
       "      <td>Instrument 2</td>\n",
       "      <td>2905</td>\n",
       "      <td>400</td>\n",
       "      <td>658654</td>\n",
       "      <td>43537</td>\n",
       "    </tr>\n",
       "  </tbody>\n",
       "</table>\n",
       "<p>43846 rows × 7 columns</p>\n",
       "</div>"
      ],
      "text/plain": [
       "        Hospital_ID  District_ID Instrument_ID  Year Total  district_hosp  \\\n",
       "0        Hospital 1  District 12  Instrument 2      103550            643   \n",
       "1        Hospital 1  District 12  Instrument 3        2562            643   \n",
       "2        Hospital 1  District 13  Instrument 1         187           1054   \n",
       "3        Hospital 1  District 13  Instrument 2       40741           1054   \n",
       "4        Hospital 1  District 13  Instrument 3        8549           1054   \n",
       "5        Hospital 1  District 13  Instrument 4        1421           1054   \n",
       "6        Hospital 1  District 13  Instrument 5        4820           1054   \n",
       "7        Hospital 1  District 16  Instrument 2       10338            191   \n",
       "8        Hospital 1  District 18  Instrument 1       15337            631   \n",
       "9        Hospital 1  District 18  Instrument 2      212707            631   \n",
       "10       Hospital 1  District 18  Instrument 3       18039            631   \n",
       "11       Hospital 1  District 18  Instrument 4        6424            631   \n",
       "12       Hospital 1  District 18  Instrument 5         672            631   \n",
       "13       Hospital 1  District 18  Instrument 6         313            631   \n",
       "14       Hospital 1  District 19  Instrument 1        1688            287   \n",
       "15       Hospital 1  District 19  Instrument 2       12453            287   \n",
       "16       Hospital 1  District 19  Instrument 7        2543            287   \n",
       "17       Hospital 1   District 2  Instrument 1         188            241   \n",
       "18       Hospital 1   District 2  Instrument 2        1864            241   \n",
       "19       Hospital 1  District 20  Instrument 1        8826            876   \n",
       "20       Hospital 1  District 20  Instrument 2      142957            876   \n",
       "21       Hospital 1  District 20  Instrument 3      386041            876   \n",
       "22       Hospital 1  District 20  Instrument 6        5454            876   \n",
       "23       Hospital 1  District 20  Instrument 7       13429            876   \n",
       "24       Hospital 1  District 20  Instrument 8       18207            876   \n",
       "25       Hospital 1  District 28  Instrument 1         271            784   \n",
       "26       Hospital 1  District 28  Instrument 2       13793            784   \n",
       "27       Hospital 1  District 28  Instrument 3         658            784   \n",
       "28       Hospital 1  District 28  Instrument 4         801            784   \n",
       "29       Hospital 1  District 28  Instrument 5          23            784   \n",
       "...             ...          ...           ...         ...            ...   \n",
       "44323  Hospital 999  District 28  Instrument 6        2545            784   \n",
       "44324  Hospital 999  District 29  Instrument 1          42            379   \n",
       "44325  Hospital 999  District 29  Instrument 2        4638            379   \n",
       "44326  Hospital 999  District 29  Instrument 3         244            379   \n",
       "44327  Hospital 999  District 29  Instrument 4         994            379   \n",
       "44328  Hospital 999  District 29  Instrument 5        4180            379   \n",
       "44329  Hospital 999  District 32  Instrument 1          14            502   \n",
       "44330  Hospital 999  District 32  Instrument 2        1226            502   \n",
       "44331  Hospital 999  District 32  Instrument 3         368            502   \n",
       "44332  Hospital 999  District 32  Instrument 5          59            502   \n",
       "44333  Hospital 999  District 34  Instrument 1           3            472   \n",
       "44334  Hospital 999  District 34  Instrument 2        1529            472   \n",
       "44335  Hospital 999  District 35  Instrument 2       17464            277   \n",
       "44336  Hospital 999  District 37  Instrument 2      198786            357   \n",
       "44337  Hospital 999  District 37  Instrument 3       23694            357   \n",
       "44338  Hospital 999  District 37  Instrument 4        2361            357   \n",
       "44339  Hospital 999  District 39  Instrument 4         195            628   \n",
       "44340  Hospital 999   District 4  Instrument 2        8364            356   \n",
       "44341  Hospital 999  District 41  Instrument 2         414            769   \n",
       "44342  Hospital 999  District 41  Instrument 3        1245            769   \n",
       "44343  Hospital 999  District 45  Instrument 2        2003             97   \n",
       "44344  Hospital 999  District 45  Instrument 3          96             97   \n",
       "44345  Hospital 999  District 46  Instrument 2         219            163   \n",
       "44346  Hospital 999  District 46  Instrument 3        3068            163   \n",
       "44347  Hospital 999  District 50  Instrument 2       67255            833   \n",
       "44348  Hospital 999  District 50  Instrument 3       44263            833   \n",
       "44349  Hospital 999  District 50  Instrument 4          27            833   \n",
       "44350  Hospital 999  District 52  Instrument 2        1234            134   \n",
       "44351  Hospital 999  District 52  Instrument 7        5735            134   \n",
       "44352  Hospital 999   District 6  Instrument 2        2905            400   \n",
       "\n",
       "       district_emp  instrument_per  \n",
       "0           1823095           43537  \n",
       "1           1823095           35777  \n",
       "2           1881163            3183  \n",
       "3           1881163           43537  \n",
       "4           1881163           35777  \n",
       "5           1881163           33421  \n",
       "6           1881163           34052  \n",
       "7            184457           43537  \n",
       "8            767213            3183  \n",
       "9            767213           43537  \n",
       "10           767213           35777  \n",
       "11           767213           33421  \n",
       "12           767213           34052  \n",
       "13           767213           32362  \n",
       "14           366567            3183  \n",
       "15           366567           43537  \n",
       "16           366567           32157  \n",
       "17           839632            3183  \n",
       "18           839632           43537  \n",
       "19           475414            3183  \n",
       "20           475414           43537  \n",
       "21           475414           35777  \n",
       "22           475414           32362  \n",
       "23           475414           32157  \n",
       "24           475414           31666  \n",
       "25           563468            3183  \n",
       "26           563468           43537  \n",
       "27           563468           35777  \n",
       "28           563468           33421  \n",
       "29           563468           34052  \n",
       "...             ...             ...  \n",
       "44323        563468           32362  \n",
       "44324         69557            3183  \n",
       "44325         69557           43537  \n",
       "44326         69557           35777  \n",
       "44327         69557           33421  \n",
       "44328         69557           34052  \n",
       "44329        101247            3183  \n",
       "44330        101247           43537  \n",
       "44331        101247           35777  \n",
       "44332        101247           34052  \n",
       "44333        104168            3183  \n",
       "44334        104168           43537  \n",
       "44335        653754           43537  \n",
       "44336        193138           43537  \n",
       "44337        193138           35777  \n",
       "44338        193138           33421  \n",
       "44339        176412           33421  \n",
       "44340        141984           43537  \n",
       "44341        660710           43537  \n",
       "44342        660710           35777  \n",
       "44343        127020           43537  \n",
       "44344        127020           35777  \n",
       "44345        198740           43537  \n",
       "44346        198740           35777  \n",
       "44347           100           43537  \n",
       "44348           100           35777  \n",
       "44349           100           33421  \n",
       "44350           100           43537  \n",
       "44351           100           32157  \n",
       "44352        658654           43537  \n",
       "\n",
       "[43846 rows x 7 columns]"
      ]
     },
     "execution_count": 54,
     "metadata": {},
     "output_type": "execute_result"
    }
   ],
   "source": [
    "df_hr"
   ]
  },
  {
   "cell_type": "code",
   "execution_count": 55,
   "metadata": {
    "collapsed": false
   },
   "outputs": [],
   "source": [
    "Y = df_hr['Year Total'].values\n",
    "del df_hr['Year Total']   "
   ]
  },
  {
   "cell_type": "code",
   "execution_count": 56,
   "metadata": {
    "collapsed": false
   },
   "outputs": [],
   "source": [
    "del df_s['Buy_or_not']\n",
    "del df_s['Revenue']"
   ]
  },
  {
   "cell_type": "code",
   "execution_count": 57,
   "metadata": {
    "collapsed": false
   },
   "outputs": [],
   "source": [
    "from sklearn.feature_extraction import DictVectorizer \n",
    "#ENCODING\n",
    "X_train = df_hr.to_dict('records')\n",
    "X_test = df_s.to_dict('records')\n",
    "X_tr = []\n",
    "X_te = []\n",
    "X_tr.extend(X_train)\n",
    "X_te.extend(X_test)\n",
    "X_total = X_tr + X_te\n",
    "#One Hot Encoding \n",
    "enc = DictVectorizer()\n",
    "X_encoded_total =enc.fit_transform(X_total)\n",
    "X_encoded_train =X_encoded_total[:len(X_tr)]\n",
    "X_encoded_test =X_encoded_total[len(X_tr):]"
   ]
  },
  {
   "cell_type": "code",
   "execution_count": 64,
   "metadata": {
    "collapsed": false
   },
   "outputs": [
    {
     "data": {
      "text/plain": [
       "SVR(C=1.0, cache_size=200, coef0=0.0, degree=3, epsilon=0.1, gamma='auto',\n",
       "  kernel='rbf', max_iter=-1, shrinking=True, tol=0.001, verbose=False)"
      ]
     },
     "execution_count": 64,
     "metadata": {},
     "output_type": "execute_result"
    }
   ],
   "source": [
    "from sklearn.ensemble import GradientBoostingRegressor,ExtraTreesRegressor,BaggingRegressor,RandomForestRegressor\n",
    "from sklearn.svm import SVR\n",
    "reg = SVR()\n",
    "reg.fit(X_encoded_train,Y )"
   ]
  },
  {
   "cell_type": "code",
   "execution_count": null,
   "metadata": {
    "collapsed": false
   },
   "outputs": [],
   "source": [
    "pred = reg.predict(X_encoded_test)"
   ]
  },
  {
   "cell_type": "code",
   "execution_count": 60,
   "metadata": {
    "collapsed": false
   },
   "outputs": [],
   "source": [
    "df_sol = pandas.read_csv('Solution.csv')"
   ]
  },
  {
   "cell_type": "code",
   "execution_count": 61,
   "metadata": {
    "collapsed": true
   },
   "outputs": [],
   "source": [
    "df_sol['Revenue'] = pred"
   ]
  },
  {
   "cell_type": "code",
   "execution_count": 63,
   "metadata": {
    "collapsed": false
   },
   "outputs": [],
   "source": [
    "\n",
    "df_sol.to_csv('Solution.csv')"
   ]
  },
  {
   "cell_type": "code",
   "execution_count": null,
   "metadata": {
    "collapsed": true
   },
   "outputs": [],
   "source": []
  },
  {
   "cell_type": "code",
   "execution_count": null,
   "metadata": {
    "collapsed": true
   },
   "outputs": [],
   "source": [
    " Y_pred_projected = reg.predict(X_encoded_test)"
   ]
  },
  {
   "cell_type": "code",
   "execution_count": null,
   "metadata": {
    "collapsed": false
   },
   "outputs": [],
   "source": [
    "Y_test = Y_Test\n",
    "Y_pred = Y_pred_projected\n",
    "MMSE = []\n",
    "BMSE = []\n",
    "for i in range(len(Y_test)):\n",
    "        MMSE.append((Y_pred[i] - Y_test[i])**2)\n",
    "        BMSE.append((Y_test[i] - np.mean(Y_test))**2)\n",
    "mmse = sum(MMSE)/len(Y_pred)\n",
    "bmse = sum(BMSE)/len(Y_pred)\n",
    "s = (bmse- mmse)/bmse\n"
   ]
  },
  {
   "cell_type": "code",
   "execution_count": null,
   "metadata": {
    "collapsed": false
   },
   "outputs": [],
   "source": [
    "s"
   ]
  },
  {
   "cell_type": "code",
   "execution_count": null,
   "metadata": {
    "collapsed": true
   },
   "outputs": [],
   "source": []
  }
 ],
 "metadata": {
  "kernelspec": {
   "display_name": "Python 2",
   "language": "python",
   "name": "python2"
  },
  "language_info": {
   "codemirror_mode": {
    "name": "ipython",
    "version": 2
   },
   "file_extension": ".py",
   "mimetype": "text/x-python",
   "name": "python",
   "nbconvert_exporter": "python",
   "pygments_lexer": "ipython2",
   "version": "2.7.10"
  }
 },
 "nbformat": 4,
 "nbformat_minor": 0
}
